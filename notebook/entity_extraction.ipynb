{
 "cells": [
  {
   "cell_type": "code",
   "execution_count": null,
   "metadata": {
    "collapsed": true
   },
   "outputs": [],
   "source": [
    "from torch.utils.data.sampler import Sampler, SequentialSampler, RandomSampler\n",
    "from torch.utils.data.dataloader import DataLoader\n",
    "from transformers import BertTokenizer,AdamW, get_linear_schedule_with_warmup\n",
    "from torch.utils.tensorboard import SummaryWriter\n",
    "import torch\n",
    "import torch.nn as nn\n",
    "import os\n",
    "import time\n",
    "\n",
    "from train_utils import get_torch_device, ModelSave, EarlyStop\n",
    "from dataset import SeqLabelDataset\n",
    "from model import BertSoftmax\n",
    "from metric import seq_tag_metrics, multi_cls_log\n",
    "os.environ[\"CUDA_VISIBLE_DEVICES\"] = \"0\"\n",
    "\n",
    "device = get_torch_device()"
   ]
  },
  {
   "cell_type": "code",
   "execution_count": null,
   "outputs": [],
   "source": [
    "def load(file_name):\n",
    "    import json\n",
    "    file = '/data/junmo_data/BertManual/trainsample/people_daily/{}.txt'\n",
    "    data = []\n",
    "    with open(file.format(file_name), 'r') as f:\n",
    "        for line in f.readlines():\n",
    "            data.append(json.loads(line.strip()))\n",
    "    return data\n",
    "\n",
    "batch_size =16\n",
    "max_seq_len=150\n",
    "pretrain_model = 'bert-base-chinese'\n",
    "train_params = {\n",
    "    'lr': 5e-5,\n",
    "    'eps':1e-10,\n",
    "    'epoch_size': 5,\n",
    "    'batch_size': batch_size,\n",
    "    'max_seq_len': max_seq_len,\n",
    "}\n",
    "\n",
    "model_params = {\n",
    "    'pretrain_model': pretrain_model,\n",
    "    'loss_fn': nn.CrossEntropyLoss(),\n",
    "    'dropout':0.5,\n",
    "    'label_size':7,\n",
    "}\n",
    "\n",
    "tokenizer = BertTokenizer.from_pretrained(pretrain_model, do_lower_case=True)\n",
    "\n",
    "train_dataset = SeqLabelDataset('train', max_seq_len, tokenizer, load)\n",
    "valid_dataset = SeqLabelDataset('valid', max_seq_len, tokenizer, load)\n",
    "\n",
    "train_sampler = RandomSampler(train_dataset)\n",
    "valid_sampler = SequentialSampler(valid_dataset)\n",
    "\n",
    "train_loader = DataLoader(train_dataset, sampler=train_sampler, batch_size=batch_size)\n",
    "valid_loader = DataLoader(valid_dataset, sampler=valid_sampler, batch_size=batch_size)"
   ],
   "metadata": {
    "collapsed": false,
    "pycharm": {
     "name": "#%%\n"
    }
   }
  },
  {
   "cell_type": "code",
   "execution_count": null,
   "outputs": [],
   "source": [
    "# Instantiate Bert Classifier\n",
    "model = BertSoftmax(**model_params)\n",
    "\n",
    "# Tell PyTorch to run the model on GPU\n",
    "model.to(device)\n",
    "\n",
    "# Create the optimizer\n",
    "optimizer = AdamW(model.parameters(),\n",
    "                  lr=train_params['lr'],    # Default learning rate\n",
    "                  eps=train_params['eps']   # Default epsilon value\n",
    "                  )\n",
    "\n",
    "train_params.update({\n",
    "    'num_train_steps':len(train_loader),\n",
    "    'total_train_steps':len(train_loader) * train_params['epoch_size']\n",
    "})\n",
    "# Set up the learning rate scheduler\n",
    "scheduler = get_linear_schedule_with_warmup(optimizer,\n",
    "                                            num_warmup_steps=0, # Default value\n",
    "                                            num_training_steps=train_params['total_train_steps'])"
   ],
   "metadata": {
    "collapsed": false,
    "pycharm": {
     "name": "#%%\n"
    }
   }
  },
  {
   "cell_type": "code",
   "execution_count": null,
   "outputs": [],
   "source": [
    "CKPT = '/data/junmo_data/BertManual/checkpoint/msra'\n",
    "saver = ModelSave(CKPT, continue_train=False)\n",
    "\n",
    "global_step = 0\n",
    "saver.init()\n",
    "\n",
    "tb = SummaryWriter(CKPT)\n",
    "save_steps =100\n",
    "log_steps=20\n",
    "es = EarlyStop(monitor='acc_macro', mode='max', verbose=True)\n",
    "for epoch_i in range(1, train_params['epoch_size']):\n",
    "    # =======================================\n",
    "    #               Training\n",
    "    # =======================================\n",
    "    # Print the header of the result table\n",
    "    print(f\"{'Epoch':^7} | {'Batch':^7} | {'Train Loss':^12} | {'Val Loss':^10}  | {'Elapsed':^9}\")\n",
    "    print(\"-\"*60)\n",
    "\n",
    "    t0_epoch, t0_batch = time.time(), time.time()\n",
    "    total_loss, batch_loss, batch_counts = 0, 0, 0\n",
    "\n",
    "    model.train()\n",
    "    for step, batch in enumerate(train_loader):\n",
    "        global_step +=1\n",
    "        batch_counts +=1\n",
    "        input_ids, token_type_ids, attention_mask, label_ids = tuple(t.to(device) for t in batch.values())\n",
    "        model.zero_grad()\n",
    "\n",
    "        logits, loss = model(input_ids, token_type_ids, attention_mask, label_ids)\n",
    "        batch_loss += loss.item()\n",
    "        total_loss += loss.item()\n",
    "\n",
    "        if global_step==1:\n",
    "            # add graph to tensorboard, only do it one time\n",
    "            tb.add_graph(model, (input_ids, token_type_ids, attention_mask))\n",
    "\n",
    "        loss.backward()\n",
    "\n",
    "        torch.nn.utils.clip_grad_norm_(model.parameters(), 1.0)\n",
    "        optimizer.step()\n",
    "        scheduler.step()\n",
    "\n",
    "        if (step % log_steps == 0 and step != 0) or (step == len(train_loader) - 1):\n",
    "            time_elapsed = time.time() - t0_batch\n",
    "            print(f\"{epoch_i + 1:^7} | {step:^7} | {batch_loss / batch_counts:^12.6f} | {'-':^9} | {time_elapsed:^9.2f}\")\n",
    "            tb.add_scalar('loss/batch_train', batch_loss / batch_counts, global_step=global_step)\n",
    "            batch_loss, batch_counts = 0, 0\n",
    "            t0_batch = time.time()\n",
    "\n",
    "        if (step % save_steps==0 and step!=0) or (step == len(train_loader) - 1):\n",
    "            avg_train_loss = total_loss / step\n",
    "            val_metrics = seq_tag_metrics(model, valid_loader, device)\n",
    "            for key, val in val_metrics.items():\n",
    "                tb.add_scalar(f'metric/{key}', val, global_step=global_step)\n",
    "            saver(avg_train_loss, val_metrics['val_loss'], global_step, model, optimizer, scheduler)\n",
    "            tb.add_scalars('loss/train_valid',{'train': avg_train_loss,\n",
    "                                                'valid': val_metrics['val_loss']}, global_step=global_step)\n",
    "            if es.check(val_metrics):\n",
    "                break\n",
    "\n",
    "    avg_train_loss = total_loss / step\n",
    "    print(\"-\"*70)\n",
    "    val_metrics = seq_tag_metrics(model, valid_loader, device)\n",
    "    time_elapsed = time.time() - t0_epoch\n",
    "    print(f\"{epoch_i + 1:^7} | {'-':^7} | {avg_train_loss:^12.6f} | {val_metrics['val_loss']:^9.6f} | {time_elapsed:^9.2f}\")\n",
    "    multi_cls_log(epoch_i, val_metrics)\n",
    "    print(\"\\n\")\n"
   ],
   "metadata": {
    "collapsed": false,
    "pycharm": {
     "name": "#%%\n"
    }
   }
  }
 ],
 "metadata": {
  "kernelspec": {
   "display_name": "Python 3",
   "language": "python",
   "name": "python3"
  },
  "language_info": {
   "codemirror_mode": {
    "name": "ipython",
    "version": 2
   },
   "file_extension": ".py",
   "mimetype": "text/x-python",
   "name": "python",
   "nbconvert_exporter": "python",
   "pygments_lexer": "ipython2",
   "version": "2.7.6"
  }
 },
 "nbformat": 4,
 "nbformat_minor": 0
}